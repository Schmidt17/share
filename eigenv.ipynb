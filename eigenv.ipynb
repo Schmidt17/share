{
 "cells": [
  {
   "cell_type": "code",
   "execution_count": 1,
   "metadata": {},
   "outputs": [
    {
     "name": "stdout",
     "output_type": "stream",
     "text": [
      "Eigenwerte: [3. 2. 1.]\n",
      "Einheits-Eigenvektoren:\n",
      "[[0.94345635 0.87287156 0.57735027]\n",
      " [0.31448545 0.43643578 0.57735027]\n",
      " [0.10482848 0.21821789 0.57735027]]\n"
     ]
    }
   ],
   "source": [
    "import numpy as np\n",
    "\n",
    "matrix = np.matrix('6 -11 6; 1 0 0; 0 1 0')\n",
    "\n",
    "# Berechne die Eigenwerte von matrix\n",
    "eigenwerte, einheitsEVs = np.linalg.eig(matrix)\n",
    "\n",
    "print(\"Eigenwerte:\", eigenwerte)\n",
    "print(\"Einheits-Eigenvektoren:\")\n",
    "print(einheitsEVs)"
   ]
  },
  {
   "cell_type": "code",
   "execution_count": null,
   "metadata": {},
   "outputs": [],
   "source": []
  }
 ],
 "metadata": {
  "kernelspec": {
   "display_name": "Python 3",
   "language": "python",
   "name": "python3"
  },
  "language_info": {
   "codemirror_mode": {
    "name": "ipython",
    "version": 3
   },
   "file_extension": ".py",
   "mimetype": "text/x-python",
   "name": "python",
   "nbconvert_exporter": "python",
   "pygments_lexer": "ipython3",
   "version": "3.6.4"
  }
 },
 "nbformat": 4,
 "nbformat_minor": 2
}
